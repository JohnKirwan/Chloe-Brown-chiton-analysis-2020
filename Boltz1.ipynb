{
  "nbformat": 4,
  "nbformat_minor": 0,
  "metadata": {
    "colab": {
      "provenance": [],
      "include_colab_link": true
    },
    "kernelspec": {
      "name": "python3",
      "display_name": "Python 3"
    },
    "language_info": {
      "name": "python"
    }
  },
  "cells": [
    {
      "cell_type": "markdown",
      "metadata": {
        "id": "view-in-github",
        "colab_type": "text"
      },
      "source": [
        "<a href=\"https://colab.research.google.com/github/JohnKirwan/Chloe-Brown-chiton-analysis-2020/blob/main/Boltz1.ipynb\" target=\"_parent\"><img src=\"https://colab.research.google.com/assets/colab-badge.svg\" alt=\"Open In Colab\"/></a>"
      ]
    },
    {
      "cell_type": "markdown",
      "source": [
        "# This is a work-in-progress notebook for [Boltz](https://github.com/jwohlwend/boltz)\n",
        "\n",
        "⚠️ **Warning to Users:**\n",
        "- **Alpha Version:** This notebook is currently under active development and is considered a beta version.\n",
        "- **Usage at Your Own Risk:** Use this notebook at your own discretion and risk."
      ],
      "metadata": {
        "id": "KNOrLaJFdiA-"
      }
    },
    {
      "cell_type": "code",
      "source": [
        "#@title Input protein sequence(s), then hit `Runtime` -> `Run all`\n",
        "from google.colab import files\n",
        "import os\n",
        "import re\n",
        "import hashlib\n",
        "import random\n",
        "import requests\n",
        "from string import ascii_uppercase\n",
        "\n",
        "# Function to add a hash to the jobname\n",
        "def add_hash(x, y):\n",
        "    return x + \"_\" + hashlib.sha1(y.encode()).hexdigest()[:5]\n",
        "\n",
        "# User inputs\n",
        "query_sequence = 'MAALSGGGGGGAEPGQALFNGDMEPEAGAGAGAAASSAADPAIPEEVWNIKQMIKLTQEHIEALLDKFGGEHNPPSIYLEAYEEYTSKLDALQQREQQLLESLGNGTDFSVSSSASMDTVTSSSSSSLSVLPSSLSVFQNPTDVARSNPKSPQKPIVRVFLPNKQRTVVPARCGVTVRDSLKKALMMRGLIPECCAVYRIQDGEKKPIGWDTDISWLTGEELHVEVLENVPLTTHNFVRKTFFTLAFCDFCRKLLFQGFRCQTCGYKFHQRCSTEVPLMCVNYDQLDLLFVSKFFEHHPIPQEEASLAETALTSGSSPSAPASDSIGPQILTSPSPSKSIPIPQPFRPADEDHRNQFGQRDRSSSAPNVHINTIEPVNIDDLIRDQGFRGDGGSTTGLSATPPASLPGSLTNVKALQKSPGPQRERKSSSSSEDRNRMKTLGRRDSSDDWEIPDGQITVGQRIGSGSFGTVYKGKWHGDVAVKMLNVTAPTPQQLQAFKNEVGVLRKTRHVNILLFMGYSTKPQLAIVTQWCEGSSLYHHLHIIETKFEMIKLIDIARQTAQGMDYLHAKSIIHRDLKSNNIFLHEDLTVKIGDFGLATVKSRWSGSHQFEQLSGSILWMAPEVIRMQDKNPYSFQSDVYAFGIVLYELMTGQLPYSNINNRDQIIFMVGRGYLSPDLSKVRSNCPKAMKRLMAECLKKKRDERPLFPQILASIELLARSLPKIHRSASEPSLNRAGFQTEDFSLYACASPKTPIQAGGYGAFPVH:MPKKKPTPIQLNPAPDGSAVNGTSSAETNLEALQKKLEELELDEQQRKRLEAFLTQKQKVGELKDDDFEKISELGAGNGGVVFKVSHKPSGLVMARKLIHLEIKPAIRNQIIRELQVLHECNSPYIVGFYGAFYSDGEISICMEHMDGGSLDQVLKKAGRIPEQILGKVSIAVIKGLTYLREKHKIMHRDVKPSNILVNSRGEIKLCDFGVSGQLIDSMANSFVGTRSYMSPERLQGTHYSVQSDIWSMGLSLVEMAVGRYPIPPPDAKELELMFGCQVEGDAAETPPRPRTPGRPLSSYGMDSRPPMAIFELLDYIVNEPPPKLPSGVFSLEFQDFVNKCLIKNPAERADLKQLMVHAFIKRSDAEEVDFAGWLCSTIGLNQPSTPTHAAGV:MDRAALRAAAMGEKKEGGGGGDAAAAEGGAGAAASRALQQCGQLQKLIDISIGSLRGLRTKCAVSNDLTQQEIRTLEAKLVRYICKQRQCKLSVAPGERTPELNSYPRFSDWLYTFNVRPEVVQEIPRDLTLDALLEMNEAKVKETLRRCGASGDECGRLQYALTCLRKVTGLGGEHKEDSSWSSLDARRESGSGPSTDTLSAASLPWPPGSSQLGRAGNSAQGPRSISVSALPASDSPTPSFSEGLSDTCIPLHASGRLTPRALHSFITPPTTPQLRRHTKLKPPRTPPPPSRKVFQLLPSFPTLTRSKSHESQLGNRIDDVSSMRFDLSHGSPQMVRRDIGLSVTHRFSTKSWLSQVCHVCQKSMIFGVKCKHCRLKCHNKCTKEAPACRISFLPLTRLRRTESVPSDINNPVDRAAEPHFGTLPKALTKKEHPPAMNHLDSSSNPSSTTSSTPSSPAPFPTSSNPSSATTPPNPSPGQRDSRFNFPAAYFIHHRQQFIFPVPSAGHCWKCLLIAESLKENAFNISAFAHAAPLPEAADGTRLDDQPKADVLEAHEAEAEEPEAGKSEAEDDEDEVDDLPSSRRPWRGPISRKASQTSVYLQEWDIPFEQVELGEPIGQGRWGRVHRGRWHGEVAIRLLEMDGHNQDHLKLFKKEVMNYRQTRHENVVLFMGACMNPPHLAIITSFCKGRTLHSFVRDPKTSLDINKTRQIAQEIIKGMGYLHAKGIVHKDLKSKNVFYDNGKVVITDFGLFGISGVVREGRRENQLKLSHDWLCYLAPEIVREMTPGKDEDQLPFSKAADVYAFGTVWYELQARDWPLKNQAAEASIWQIGSGEGMKRVLTSVSLGKEVSEILSACWAFDLQERPSFSLLMDMLEKLPKLNRRLSHPGHFWKSADINSSKVVPRFERFGLGVLESSNPKM'  #@param {type:\"string\"}\n",
        "#@markdown  - Use `:` to specify inter-protein chainbreaks for **modeling complexes** (supports homo- and hetro-oligomers). For example **PI...SK:PI...SK** for a homodimer\n",
        "ligand_input = ''  #@param {type:\"string\"}\n",
        "#@markdown  - Use `:` to specify multiple ligands as smile strings\n",
        "ligand_input_ccd = 'ATP:ATP:ATP:MG:MG:MG:ZN:ZN'  #@param {type:\"string\"}\n",
        "#@markdown - Use `:` to specify multiple ligands as CCD codes (three-letter codes)\n",
        "ligand_input_common_name = ''  #@param {type:\"string\"}\n",
        "#@markdown - Use `:` to specify multiple ligands with their common name (e.g. Aspirin; SMILES fetched from [PubChem](https://pubchem.ncbi.nlm.nih.gov) API)\n",
        "dna_input = ''  #@param {type:\"string\"}\n",
        "#@markdown - Use `:` to specify multiple DNA sequences\n",
        "jobname = 'Seq A BRAF MEK1 KSR1'  #@param {type:\"string\"}\n",
        "\n",
        "# Clean up the query sequence and jobname\n",
        "query_sequence = \"\".join(query_sequence.split())\n",
        "ligand_input = \"\".join(ligand_input.split())\n",
        "ligand_input_ccd = \"\".join(ligand_input_ccd.split())\n",
        "ligand_input_common_name = \"\".join(ligand_input_common_name.split())\n",
        "dna_input = \"\".join(dna_input.split())\n",
        "basejobname = \"\".join(jobname.split())\n",
        "basejobname = re.sub(r'\\W+', '', basejobname)\n",
        "jobname = add_hash(basejobname, query_sequence)\n",
        "\n",
        "# Check if a directory with jobname exists\n",
        "def check(folder):\n",
        "    return not os.path.exists(folder)\n",
        "\n",
        "if not check(jobname):\n",
        "    n = 0\n",
        "    while not check(f\"{jobname}_{n}\"):\n",
        "        n += 1\n",
        "    jobname = f\"{jobname}_{n}\"\n",
        "\n",
        "# Make directory to save results\n",
        "os.makedirs(jobname, exist_ok=True)\n",
        "\n",
        "from string import ascii_uppercase\n",
        "\n",
        "# Split sequences on chain breaks\n",
        "protein_sequences = query_sequence.strip().split(':') if query_sequence.strip() else []\n",
        "ligand_sequences = ligand_input.strip().split(':') if ligand_input.strip() else []\n",
        "ligand_sequences_ccd = ligand_input_ccd.strip().split(':') if ligand_input_ccd.strip() else []\n",
        "ligand_sequences_common_name = ligand_input_common_name.strip().split(':') if ligand_input_common_name.strip() else []\n",
        "dna_sequences = dna_input.strip().split(':') if dna_input.strip() else []\n",
        "\n",
        "def get_smiles(compound_name):\n",
        "    autocomplete_url = f\"https://pubchem.ncbi.nlm.nih.gov/rest/autocomplete/compound/{compound_name}/json?limit=1\"\n",
        "    autocomplete_response = requests.get(autocomplete_url)\n",
        "    if autocomplete_response.status_code != 200:\n",
        "        return None\n",
        "\n",
        "    autocomplete_data = autocomplete_response.json()\n",
        "    if autocomplete_data.get(\"status\", {}).get(\"code\") != 0 or autocomplete_data.get(\"total\", 0) == 0:\n",
        "        return None\n",
        "\n",
        "    suggested_compound = autocomplete_data.get(\"dictionary_terms\", {}).get(\"compound\", [])\n",
        "    if not suggested_compound:\n",
        "        return None\n",
        "    suggested_compound_name = suggested_compound[0]\n",
        "\n",
        "    smiles_url = f\"https://pubchem.ncbi.nlm.nih.gov/rest/pug/compound/name/{suggested_compound_name}/property/CanonicalSMILES/JSON\"\n",
        "    smiles_response = requests.get(smiles_url)\n",
        "    if smiles_response.status_code != 200:\n",
        "        return None\n",
        "\n",
        "    smiles_data = smiles_response.json()\n",
        "    properties = smiles_data.get(\"PropertyTable\", {}).get(\"Properties\", [])\n",
        "    if len(properties) == 0:\n",
        "        return None\n",
        "\n",
        "    return properties[0].get(\"CanonicalSMILES\")\n",
        "\n",
        "smiles_cache = {}\n",
        "for name in ligand_sequences_common_name:\n",
        "    if name not in smiles_cache:\n",
        "        smiles_cache[name] = get_smiles(name)\n",
        "        if smiles_cache[name] is not None:\n",
        "          print(f\"Mapped compound {name} to {smiles_cache[name]}\")\n",
        "\n",
        "    if smiles_cache[name] is not None:\n",
        "        ligand_sequences.append(smiles_cache[name])\n",
        "\n",
        "# Initialize chain labels starting from 'A'\n",
        "chain_labels = iter(ascii_uppercase)\n",
        "\n",
        "fasta_entries = []\n",
        "csv_entries = []\n",
        "chain_label_to_seq_id = {}\n",
        "seq_to_seq_id = {}\n",
        "seq_id_counter = 0  # Counter for unique sequences\n",
        "\n",
        "# Process protein sequences\n",
        "for seq in protein_sequences:\n",
        "    seq = seq.strip()\n",
        "    if not seq:\n",
        "        continue  # Skip empty sequences\n",
        "    chain_label = next(chain_labels)\n",
        "    # Check if sequence has been seen before\n",
        "    if seq in seq_to_seq_id:\n",
        "        seq_id = seq_to_seq_id[seq]\n",
        "    else:\n",
        "        seq_id = f\"{jobname}_{seq_id_counter}\"\n",
        "        seq_to_seq_id[seq] = seq_id\n",
        "        seq_id_counter += 1\n",
        "        # For CSV file (for ColabFold), add only unique sequences\n",
        "        csv_entries.append((seq_id, seq))\n",
        "    chain_label_to_seq_id[chain_label] = seq_id\n",
        "    # For FASTA file\n",
        "    msa_path = os.path.join(jobname, f\"{seq_id}.a3m\")\n",
        "    header = f\">{chain_label}|protein|{msa_path}\"\n",
        "    sequence = seq\n",
        "    fasta_entries.append((header, sequence))\n",
        "\n",
        "# Process ligand sequences (assumed to be SMILES strings)\n",
        "for lig in ligand_sequences:\n",
        "    lig = lig.strip()\n",
        "    if not lig:\n",
        "        continue  # Skip empty ligands\n",
        "    chain_label = next(chain_labels)\n",
        "    lig_type = 'smiles'\n",
        "    header = f\">{chain_label}|{lig_type}\"\n",
        "    sequence = lig\n",
        "    fasta_entries.append((header, sequence))\n",
        "\n",
        "# Process DNA sequences (NO MSA is generated)\n",
        "for seq in dna_sequences:\n",
        "    seq = seq.strip()\n",
        "    if not seq:\n",
        "        continue  # Skip empty sequences\n",
        "    chain_label = next(chain_labels)\n",
        "    lig_type = 'DNA'\n",
        "    header = f\">{chain_label}|{lig_type}\"\n",
        "    sequence = seq\n",
        "    fasta_entries.append((header, sequence))\n",
        "\n",
        "# Process ligand sequences (CCD codes)\n",
        "for lig in ligand_sequences_ccd:\n",
        "    lig = lig.strip()\n",
        "    if not lig:\n",
        "        continue  # Skip empty ligands\n",
        "    chain_label = next(chain_labels)\n",
        "    lig_type = 'ccd'\n",
        "    header = f\">{chain_label}|{lig_type}\"\n",
        "    sequence = lig.upper()  # Ensure CCD codes are uppercase\n",
        "    fasta_entries.append((header, sequence))\n",
        "\n",
        "# Write the CSV file for ColabFold\n",
        "queries_path = os.path.join(jobname, f\"{jobname}.csv\")\n",
        "with open(queries_path, \"w\") as text_file:\n",
        "    text_file.write(\"id,sequence\\n\")\n",
        "    for seq_id, seq in csv_entries:\n",
        "        text_file.write(f\"{seq_id},{seq}\\n\")\n",
        "\n",
        "# Write the FASTA file\n",
        "queries_fasta = os.path.join(jobname, f\"{jobname}.fasta\")\n",
        "with open(queries_fasta, 'w') as f:\n",
        "    for header, sequence in fasta_entries:\n",
        "        f.write(f\"{header}\\n{sequence}\\n\")\n",
        "\n",
        "# Optionally, print the output for verification\n",
        "#print(f\"Generated FASTA file '{queries_fasta}':\\n\")\n",
        "#for header, sequence in fasta_entries:\n",
        "#    print(f\"{header}\\n{sequence}\\n\")\n"
      ],
      "metadata": {
        "id": "AcYvVeDESi2a"
      },
      "execution_count": 1,
      "outputs": []
    },
    {
      "cell_type": "code",
      "execution_count": 2,
      "metadata": {
        "id": "4eXNO1JJHYrB",
        "outputId": "654cb257-0872-482a-e04c-2e8089f5f84b",
        "colab": {
          "base_uri": "https://localhost:8080/"
        }
      },
      "outputs": [
        {
          "output_type": "stream",
          "name": "stdout",
          "text": [
            "installing colabfold...\n",
            "CPU times: user 683 ms, sys: 112 ms, total: 795 ms\n",
            "Wall time: 2min 25s\n"
          ]
        }
      ],
      "source": [
        "#@title Install dependencies\n",
        "%%time\n",
        "import os\n",
        "if not os.path.isfile(\"COLABFOLD_READY\"):\n",
        "  print(\"installing colabfold...\")\n",
        "  os.system(\"pip install -q --no-warn-conflicts 'colabfold[alphafold-minus-jax] @ git+https://github.com/sokrypton/ColabFold'\")\n",
        "  if os.environ.get('TPU_NAME', False) != False:\n",
        "    os.system(\"pip uninstall -y jax jaxlib\")\n",
        "    os.system(\"pip install --no-warn-conflicts --upgrade dm-haiku==0.0.10 'jax[cuda12_pip]'==0.3.25 -f https://storage.googleapis.com/jax-releases/jax_cuda_releases.html\")\n",
        "  os.system(\"ln -s /usr/local/lib/python3.*/dist-packages/colabfold colabfold\")\n",
        "  os.system(\"ln -s /usr/local/lib/python3.*/dist-packages/alphafold alphafold\")\n",
        "  os.system(\"touch COLABFOLD_READY\")\n",
        "\n",
        "if not os.path.isfile(\"BOLZ_READY\"):\n",
        "  os.system(\"apt-get install -y aria2\")\n",
        "  os.system(\"pip install -q --no-warn-conflicts boltz\")\n",
        "  os.system(\"mkdir weights\")\n",
        "  os.system(\"aria2c -d weights -x8 -s8 https://colabfold.steineggerlab.workers.dev/boltz1.ckpt\")\n",
        "  os.system(\"aria2c -d weights -x8 -s8 https://colabfold.steineggerlab.workers.dev/ccd.pkl\")\n",
        "  os.system(\"touch BOLZ_READY\")"
      ]
    },
    {
      "cell_type": "code",
      "source": [
        "#@title Generate MSA with ColabFold\n",
        "!colabfold_batch \"{queries_path}\" \"{jobname}\" --msa-only"
      ],
      "metadata": {
        "id": "4aFDR4IhRe6y",
        "outputId": "dba72adf-1809-4066-9ca0-36abbb092108",
        "colab": {
          "base_uri": "https://localhost:8080/"
        }
      },
      "execution_count": 3,
      "outputs": [
        {
          "output_type": "stream",
          "name": "stdout",
          "text": [
            "2024-12-11 15:24:02,508 Running colabfold 1.5.5 (e2ca9e8f992cd65c986de5b64885d5572d8b8ad9)\n",
            "\n",
            "WARNING: You are welcome to use the default MSA server, however keep in mind that it's a\n",
            "limited shared resource only capable of processing a few thousand MSAs per day. Please\n",
            "submit jobs only from a single IP address. We reserve the right to limit access to the\n",
            "server case-by-case when usage exceeds fair use. If you require more MSAs: You can \n",
            "precompute all MSAs with `colabfold_search` or host your own API and pass it to `--host-url`\n",
            "\n",
            "2024-12-11 15:24:03,133 WARNING: no GPU detected, will be using CPU\n",
            "2024-12-11 15:24:11,800 Found 4 citations for tools or databases\n",
            "2024-12-11 15:24:11,800 Query 1/3: SeqABRAFMEK1KSR1_864c3_1 (length 393)\n",
            "COMPLETE: 100% 150/150 [00:01<00:00, 80.95it/s] \n",
            "2024-12-11 15:24:13,776 Saved SeqABRAFMEK1KSR1_864c3/SeqABRAFMEK1KSR1_864c3_1.pickle\n",
            "2024-12-11 15:24:17,895 Query 2/3: SeqABRAFMEK1KSR1_864c3_0 (length 766)\n",
            "COMPLETE: 100% 150/150 [00:01<00:00, 93.84it/s] \n",
            "2024-12-11 15:24:19,636 Saved SeqABRAFMEK1KSR1_864c3/SeqABRAFMEK1KSR1_864c3_0.pickle\n",
            "2024-12-11 15:24:27,894 Query 3/3: SeqABRAFMEK1KSR1_864c3_2 (length 923)\n",
            "COMPLETE: 100% 150/150 [00:01<00:00, 93.35it/s] \n",
            "2024-12-11 15:24:29,587 Saved SeqABRAFMEK1KSR1_864c3/SeqABRAFMEK1KSR1_864c3_2.pickle\n",
            "2024-12-11 15:24:33,449 Done\n"
          ]
        }
      ]
    },
    {
      "cell_type": "code",
      "source": [
        "#@title Predict structure using boltz\n",
        "!boltz predict --out_dir \"{jobname}\" \"{jobname}/{jobname}.fasta\" --cache weights"
      ],
      "metadata": {
        "cellView": "form",
        "id": "bgaBXxXtIAu9",
        "outputId": "0ad32b26-1b5c-4de6-c28d-ac9cbefacd1d",
        "colab": {
          "base_uri": "https://localhost:8080/"
        }
      },
      "execution_count": null,
      "outputs": [
        {
          "output_type": "stream",
          "name": "stdout",
          "text": [
            "Downloading the model weights to weights/boltz1_conf.ckpt. You may change the cache directory with the --cache flag.\n"
          ]
        }
      ]
    },
    {
      "cell_type": "code",
      "source": [
        "#@title Download results\n",
        "# Import necessary modules\n",
        "import os\n",
        "import zipfile\n",
        "from google.colab import files\n",
        "import glob\n",
        "\n",
        "# Ensure 'jobname' variable is defined\n",
        "# jobname = 'test_abcde'  # Uncomment and set if not already defined\n",
        "\n",
        "# Name of the zip file\n",
        "zip_filename = f\"results_{jobname}.zip\"\n",
        "\n",
        "# Create a zip file and add the specified files without preserving directory structure\n",
        "with zipfile.ZipFile(zip_filename, 'w') as zipf:\n",
        "    coverage_png_files = glob.glob(os.path.join(jobname, '*_coverage.png'))\n",
        "    a3m_files = glob.glob(os.path.join(jobname, '*.a3m'))\n",
        "    for file in coverage_png_files + a3m_files:\n",
        "        arcname = os.path.basename(file)  # Use only the file name\n",
        "        zipf.write(file, arcname=arcname)\n",
        "\n",
        "    cif_files = glob.glob(os.path.join(jobname, f'boltz_results_{jobname}', 'predictions', jobname, '*.cif'))\n",
        "    for file in cif_files:\n",
        "        arcname = os.path.basename(file)  # Use only the file name\n",
        "        zipf.write(file, arcname=arcname)\n",
        "\n",
        "    hparams_file = os.path.join(jobname, f'boltz_results_{jobname}', 'lightning_logs', 'version_0', 'hparams.yaml')\n",
        "    if os.path.exists(hparams_file):\n",
        "        arcname = os.path.basename(hparams_file)  # Use only the file name\n",
        "        zipf.write(hparams_file, arcname=arcname)\n",
        "    else:\n",
        "        print(f\"Warning: {hparams_file} not found.\")\n",
        "\n",
        "# Download the zip file\n",
        "files.download(zip_filename)\n"
      ],
      "metadata": {
        "cellView": "form",
        "id": "jdSBSTOpaULF"
      },
      "execution_count": null,
      "outputs": []
    }
  ]
}